{
 "cells": [
  {
   "cell_type": "markdown",
   "metadata": {},
   "source": [
    "# Forecast 4\n",
    "nachdem mit einem Forecast gut läuft hier mal +4\n"
   ]
  },
  {
   "cell_type": "code",
   "execution_count": 1,
   "metadata": {},
   "outputs": [
    {
     "name": "stderr",
     "output_type": "stream",
     "text": [
      "D:\\ProgramData\\Anaconda3\\envs\\ten-gpu\\lib\\site-packages\\h5py\\__init__.py:36: FutureWarning: Conversion of the second argument of issubdtype from `float` to `np.floating` is deprecated. In future, it will be treated as `np.float64 == np.dtype(float).type`.\n",
      "  from ._conv import register_converters as _register_converters\n"
     ]
    }
   ],
   "source": [
    "# mal wieder alles rein laden:\n",
    "import numpy as np\n",
    "import pandas as pd\n",
    "import sklearn.preprocessing\n",
    "import matplotlib.pyplot as plt\n",
    "import tensorflow as tf\n",
    "from tensorflow import keras\n",
    "import time\n",
    "from sklearn.model_selection import train_test_split\n",
    "#%matplotlib inline"
   ]
  },
  {
   "cell_type": "code",
   "execution_count": 2,
   "metadata": {},
   "outputs": [],
   "source": [
    "# Parameter\n",
    "# Network Parameters\n",
    "n_target = 5 # versuch forecast der nächsten X\n",
    "n_seq = n_target * 4 # sequenz für split der Daten ist 4 fach\n",
    "n_input = n_seq - n_target  # input shape für NN\n",
    "# so versuch Layer in Abhängigkeit von input\n",
    "n_hidden_1 = n_input**2#256# 1st layer number of features\n",
    "n_hidden_2 = int(n_hidden_1 / 2) #128 # 2nd layer number of features\n",
    "n_hidden_3 = int(n_hidden_2 / 2) #64 # 2nd layer number of features\n",
    "n_hidden_4 = int(n_hidden_3 / 2) #32 # 2nd layer number of features\n",
    "# Parameters\n",
    "learning_rate = 0.001\n",
    "#So ein Prezepton muss ne weile lernen :)\n",
    "training_epochs = 250\n",
    "batch_size = 120"
   ]
  },
  {
   "cell_type": "code",
   "execution_count": 3,
   "metadata": {},
   "outputs": [],
   "source": [
    "def load_data():\n",
    "    df = pd.read_csv(\"data/bitcoin_short.csv\", index_col=1)\n",
    "    # df_val= Open Value\n",
    "    df_val = df.drop(columns='Close').drop(columns='High').drop(columns='Low')\n",
    "    #df_targ= CLose Value\n",
    "    df_targ = df.drop(columns='Open').drop(columns='High').drop(columns='Low')\n",
    "    return df, df_val, df_targ"
   ]
  },
  {
   "cell_type": "code",
   "execution_count": 4,
   "metadata": {},
   "outputs": [],
   "source": [
    "# Teile DAten auf in 6 Teile verlauf und 4 Teile Forecast.\n",
    "# erstmal so ich werde mir das vll iterativ anschauen...\n",
    "def split_forecast(df_val):\n",
    "    data = df_val.values.reshape(-1,10)\n",
    "    new_dat= []\n",
    "    new_targ= [[]]\n",
    "    for dat in data:\n",
    "        new_dat = np.append(new_dat, dat[:-4])\n",
    "        new_targ = np.append(new_targ, dat[-4:])\n",
    "    new_dat = new_dat.reshape(-1,6)\n",
    "    new_targ = new_targ.reshape(-1,4)\n",
    "    print(\"new_dat: \", new_dat.shape)\n",
    "    print(\"new_targ: \", new_targ.shape)\n",
    "    return new_dat, new_targ\n"
   ]
  },
  {
   "cell_type": "code",
   "execution_count": 5,
   "metadata": {},
   "outputs": [],
   "source": [
    "# So hier wird der Datensatz sequentiell aufgeteilt\n",
    "def split_seq(df_val, seq, pre_seq):\n",
    "    data = df_val.values\n",
    "    check_size = seq - pre_seq\n",
    "    print(check_size)\n",
    "    new_dat= []\n",
    "    new_targ= []\n",
    "    print(\"länge: \", len(data)-seq)\n",
    "    for i in range(len(data)-seq):\n",
    "        new_dat = np.append(new_dat, data[i:i+check_size])\n",
    "        new_targ = np.append(new_targ, data[i+check_size:i+seq])\n",
    "        #output eingebaut, dat dauert lange... mal schauen ob ich das mit list slice nicht auch hin bekomme...\n",
    "        if i%6000 == 0:\n",
    "            print(\"bin noch da: \", i, \" \", new_dat.shape)\n",
    "    new_dat = new_dat.reshape(-1,check_size)\n",
    "    new_targ = new_targ.reshape(-1,pre_seq)\n",
    "    print(new_dat.shape)\n",
    "    print(new_targ.shape)\n",
    "    return new_dat, new_targ\n",
    "        \n",
    "        "
   ]
  },
  {
   "cell_type": "code",
   "execution_count": 6,
   "metadata": {},
   "outputs": [
    {
     "name": "stdout",
     "output_type": "stream",
     "text": [
      "15\n",
      "länge:  51233\n",
      "bin noch da:  0   (15,)\n",
      "bin noch da:  6000   (90015,)\n",
      "bin noch da:  12000   (180015,)\n",
      "bin noch da:  18000   (270015,)\n",
      "bin noch da:  24000   (360015,)\n",
      "bin noch da:  30000   (450015,)\n",
      "bin noch da:  36000   (540015,)\n",
      "bin noch da:  42000   (630015,)\n",
      "bin noch da:  48000   (720015,)\n",
      "(51233, 15)\n",
      "(51233, 5)\n"
     ]
    }
   ],
   "source": [
    "df, df_val, df_targ = load_data()\n",
    "# split ds, seq-länge, forecast\n",
    "x_seq, y_seq = split_seq(df_val, n_seq, n_target)"
   ]
  },
  {
   "cell_type": "code",
   "execution_count": 7,
   "metadata": {},
   "outputs": [
    {
     "name": "stdout",
     "output_type": "stream",
     "text": [
      "[9372.00000001 9379.99999997 9412.99999318 9420.03499994 9374.\n",
      " 9367.43814562 9366.00059    9390.33978874 9371.00005511 9350.00000006\n",
      " 9289.0000037  9276.00010111 9312.53405687 9289.09999852 9214.54892906]\n",
      "[9202.00000004 9285.46       9255.00000007 9166.07635825 9105.        ]\n",
      "                   Open\n",
      "Timestamp              \n",
      "1517496900  9372.000000\n",
      "1517497500  9380.000000\n",
      "1517497800  9412.999993\n",
      "1517498100  9420.035000\n",
      "1517498400  9374.000000\n",
      "1517498700  9367.438146\n",
      "1517499000  9366.000590\n",
      "1517499300  9390.339789\n",
      "1517499600  9371.000055\n",
      "1517499900  9350.000000\n",
      "1517500200  9289.000004\n",
      "1517500500  9276.000101\n",
      "1517500800  9312.534057\n",
      "1517501100  9289.099999\n",
      "1517501400  9214.548929\n",
      "1517501700  9202.000000\n",
      "1517502000  9285.460000\n",
      "1517502300  9255.000000\n",
      "1517502600  9166.076358\n",
      "1517502900  9105.000000\n"
     ]
    }
   ],
   "source": [
    "#nur kurz zum Prüfen der Daten...\n",
    "print(x_seq[0])\n",
    "print(y_seq[0])\n",
    "print(df_val[:n_seq])"
   ]
  },
  {
   "cell_type": "code",
   "execution_count": 8,
   "metadata": {},
   "outputs": [
    {
     "name": "stdout",
     "output_type": "stream",
     "text": [
      "new_dat:  (5125, 6)\n",
      "new_targ:  (5125, 4)\n"
     ]
    }
   ],
   "source": [
    "#Achtung wir brauchen Mod10 Daten => wir lassen Mod10 rest weg :)\n",
    "x_data, y_data = split_forecast(df_val[:-(len(df_val)%10)])\n",
    "#skalieren der Daten\n",
    "min_max_scaler = sklearn.preprocessing.MinMaxScaler(feature_range=(-1, 1))\n",
    "data2 = min_max_scaler.fit_transform(x_seq)\n",
    "target2 = min_max_scaler.fit_transform(y_seq)\n",
    "#aufteieln in test und train\n",
    "x_train, x_test, y_train, y_test = train_test_split(data2, target2, random_state=23111, test_size=0.35)\n",
    "#datax und datay komplett\n",
    "datax = data2\n",
    "datay = target2"
   ]
  },
  {
   "cell_type": "markdown",
   "metadata": {},
   "source": [
    "# TF implementierung eigenes Prezepton\n",
    "einfach mal zum Spaß 4 Layer Prezepton"
   ]
  },
  {
   "cell_type": "code",
   "execution_count": 9,
   "metadata": {},
   "outputs": [],
   "source": [
    "#Batch erstellen, gut hab ich ganz verstanden aber läuft. ;)\n",
    "index_in_epoch = 0\n",
    "perm_array = np.arange(x_train.shape[0])\n",
    "np.random.shuffle(perm_array)\n",
    "\n",
    "\n",
    "# function to get the next batch\n",
    "def get_next_batch(batch_size):\n",
    "    global index_in_epoch, x_train, perm_array\n",
    "    start = index_in_epoch\n",
    "    index_in_epoch += batch_size\n",
    "\n",
    "    if index_in_epoch > x_train.shape[0]:\n",
    "        np.random.shuffle(perm_array)  # shuffle permutation array\n",
    "        start = 0  # start next epoch\n",
    "        index_in_epoch = batch_size\n",
    "\n",
    "    end = index_in_epoch\n",
    "    return x_train[perm_array[start:end]], y_train[perm_array[start:end]]"
   ]
  },
  {
   "cell_type": "code",
   "execution_count": 10,
   "metadata": {},
   "outputs": [],
   "source": [
    "x = tf.placeholder(\"float\", [None, n_input])\n",
    "y = tf.placeholder(\"float\", [None, n_target])"
   ]
  },
  {
   "cell_type": "markdown",
   "metadata": {},
   "source": [
    "## das Prezepton\n",
    "Hatte etwas rum gespielt und mit relu6 und softmax gute Ergebinsse erzielt"
   ]
  },
  {
   "cell_type": "code",
   "execution_count": 11,
   "metadata": {},
   "outputs": [],
   "source": [
    "def multilayer_perceptron(x, weights, biases):\n",
    "    '''\n",
    "    x : Place Holder for Data Input\n",
    "    weights: Dictionary of weights\n",
    "    biases: Dicitionary of biases\n",
    "    '''\n",
    "    \n",
    "    # First Hidden layer with RELU activation\n",
    "    layer_1 = tf.add(tf.matmul(x, weights['h1']), biases['b1'])\n",
    "    layer_1 = tf.nn.relu6(layer_1)\n",
    "    \n",
    "    # Second Hidden layer with RELU activation\n",
    "    layer_2 = tf.add(tf.matmul(layer_1, weights['h2']), biases['b2'])\n",
    "    layer_2 = tf.nn.relu6(layer_2)\n",
    "    \n",
    "    # Second Hidden layer with RELU activation\n",
    "    layer_3 = tf.add(tf.matmul(layer_2, weights['h3']), biases['b3'])\n",
    "    layer_3 = tf.nn.relu6(layer_3)\n",
    "    \n",
    "    # Second Hidden layer with RELU activation\n",
    "    layer_4 = tf.add(tf.matmul(layer_3, weights['h4']), biases['b4'])\n",
    "    layer_4 = tf.nn.softmax(layer_4)\n",
    "    \n",
    "    # Last Output layer with linear activation\n",
    "    out_layer = tf.matmul(layer_4, weights['out']) + biases['out']\n",
    "    return out_layer"
   ]
  },
  {
   "cell_type": "markdown",
   "metadata": {},
   "source": [
    "## und jetzt die Maße und Gewichte :)"
   ]
  },
  {
   "cell_type": "code",
   "execution_count": 12,
   "metadata": {},
   "outputs": [],
   "source": [
    "weights = {\n",
    "    'h1': tf.Variable(tf.random_normal([n_input, n_hidden_1])),\n",
    "    'h2': tf.Variable(tf.random_normal([n_hidden_1, n_hidden_2])),\n",
    "    'h3': tf.Variable(tf.random_normal([n_hidden_2, n_hidden_3])),\n",
    "    'h4': tf.Variable(tf.random_normal([n_hidden_3, n_hidden_4])),\n",
    "    'out': tf.Variable(tf.random_normal([n_hidden_4, n_target]))\n",
    "}"
   ]
  },
  {
   "cell_type": "code",
   "execution_count": 13,
   "metadata": {},
   "outputs": [],
   "source": [
    "biases = {\n",
    "    'b1': tf.Variable(tf.random_normal([n_hidden_1])),\n",
    "    'b2': tf.Variable(tf.random_normal([n_hidden_2])),\n",
    "    'b3': tf.Variable(tf.random_normal([n_hidden_3])),\n",
    "    'b4': tf.Variable(tf.random_normal([n_hidden_4])),\n",
    "    'out': tf.Variable(tf.random_normal([n_target]))\n",
    "}"
   ]
  },
  {
   "cell_type": "code",
   "execution_count": 14,
   "metadata": {},
   "outputs": [],
   "source": [
    "# Construct model\n",
    "pred = multilayer_perceptron(x, weights, biases)\n",
    "# Define loss and optimizer\n",
    "cost = tf.reduce_mean(tf.square(pred - y))\n",
    "optimizer = tf.train.AdamOptimizer(learning_rate=learning_rate).minimize(cost)"
   ]
  },
  {
   "cell_type": "code",
   "execution_count": 15,
   "metadata": {},
   "outputs": [
    {
     "name": "stdout",
     "output_type": "stream",
     "text": [
      "277\n"
     ]
    }
   ],
   "source": [
    "# Initializing the variables\n",
    "init = tf.global_variables_initializer()\n",
    "print(int(x_train.shape[0]/batch_size))"
   ]
  },
  {
   "cell_type": "markdown",
   "metadata": {},
   "source": [
    "## so jetzt wird aber mal trainiert "
   ]
  },
  {
   "cell_type": "code",
   "execution_count": 16,
   "metadata": {},
   "outputs": [
    {
     "name": "stdout",
     "output_type": "stream",
     "text": [
      "Epoch: 1 cost=0.7648\n",
      "Epoch: 11 cost=0.1983\n",
      "Epoch: 21 cost=0.1982\n",
      "Epoch: 31 cost=0.1982\n",
      "Epoch: 41 cost=0.1983\n",
      "Epoch: 51 cost=0.1982\n",
      "Epoch: 61 cost=0.1982\n",
      "Epoch: 71 cost=0.1981\n",
      "Epoch: 81 cost=0.1982\n",
      "Epoch: 91 cost=0.0036\n",
      "Epoch: 101 cost=0.0008\n",
      "Epoch: 111 cost=0.0005\n",
      "Epoch: 121 cost=0.0005\n",
      "Epoch: 131 cost=0.0004\n",
      "Epoch: 141 cost=0.0003\n",
      "Epoch: 151 cost=0.0003\n",
      "Epoch: 161 cost=0.0004\n",
      "Epoch: 171 cost=0.0003\n",
      "Epoch: 181 cost=0.0003\n",
      "Epoch: 191 cost=0.0003\n",
      "Epoch: 201 cost=0.0003\n",
      "Epoch: 211 cost=0.0003\n",
      "Epoch: 221 cost=0.0003\n",
      "Epoch: 231 cost=0.0003\n",
      "Epoch: 241 cost=0.0003\n",
      "Model has completed 250 Epochs of Training\n"
     ]
    }
   ],
   "source": [
    "# Launch the session\n",
    "sess = tf.InteractiveSession()\n",
    "\n",
    "# Intialize all the variables\n",
    "sess.run(init)\n",
    "\n",
    "# Training Epochs\n",
    "# Essentially the max amount of loops possible before we stop\n",
    "# May stop earlier if cost/loss limit was set\n",
    "for epoch in range(training_epochs):\n",
    "\n",
    "    # Start with cost = 0.0\n",
    "    avg_cost = 0.0\n",
    "\n",
    "    # Convert total number of batches to integer\n",
    "    total_batch = int(x_train.shape[0]/batch_size)#32#int(x_train.shape[0]/batch_size)\n",
    "\n",
    "    # Loop over all batches\n",
    "    for i in range(total_batch):\n",
    "\n",
    "        # Grab the next batch of training data and labels\n",
    "        batch_x, batch_y = get_next_batch(batch_size)\n",
    "\n",
    "        # Feed dictionary for optimization and loss value\n",
    "        # Returns a tuple, but we only need 'c' the cost\n",
    "        # So we set an underscore as a \"throwaway\"\n",
    "        _, c = sess.run([optimizer, cost], feed_dict={x: batch_x, y: batch_y})\n",
    "\n",
    "        # Compute average loss\n",
    "        avg_cost += c / total_batch\n",
    "\n",
    "    if epoch%10 == 0:\n",
    "        print(\"Epoch: {} cost={:.4f}\".format(epoch+1,avg_cost))\n",
    "        \n",
    "\n",
    "print(\"Model has completed {} Epochs of Training\".format(training_epochs))\n"
   ]
  },
  {
   "cell_type": "markdown",
   "metadata": {},
   "source": [
    "## so jetzt schauen wir mal was das Model zu den Testdaten sagt..."
   ]
  },
  {
   "cell_type": "code",
   "execution_count": 17,
   "metadata": {},
   "outputs": [
    {
     "name": "stdout",
     "output_type": "stream",
     "text": [
      "MSE Test Data:  0.0002580745\n"
     ]
    }
   ],
   "source": [
    "mse_valid = cost.eval(feed_dict={x: x_test, y: y_test})\n",
    "print(\"MSE Test Data: \",mse_valid)"
   ]
  },
  {
   "cell_type": "markdown",
   "metadata": {},
   "source": [
    "## und jetzt lassen wir es mal auf ne Sequenz der Daten los\n",
    "mal schauen was es wir :)"
   ]
  },
  {
   "cell_type": "code",
   "execution_count": 18,
   "metadata": {},
   "outputs": [],
   "source": [
    "x_valid = datax[-128:]\n",
    "y_valid = datay[-128:]\n",
    "y_test_pred = sess.run(pred, feed_dict={x: x_valid})"
   ]
  },
  {
   "cell_type": "markdown",
   "metadata": {},
   "source": [
    "## Bildchen\n",
    "nochmal: wir lassen 5 zahlen forecasten ist eigentlich wurst welche wir uns anzeigen lassen.\n",
    "Ich nehm den letzen, wichtig ist nur das wir beim Valid DS den gleichen nehmen.."
   ]
  },
  {
   "cell_type": "code",
   "execution_count": 19,
   "metadata": {},
   "outputs": [
    {
     "data": {
      "text/plain": [
       "<function matplotlib.pyplot.show(*args, **kw)>"
      ]
     },
     "execution_count": 19,
     "metadata": {},
     "output_type": "execute_result"
    },
    {
     "data": {
      "image/png": "[encoded data removed]",
      "text/plain": [
       "<Figure size 432x288 with 1 Axes>"
      ]
     },
     "metadata": {},
     "output_type": "display_data"
    }
   ],
   "source": [
    "#y_test_pred = y_test_pred.reshape(-1,1)\n",
    "plt.plot(y_test_pred[:,n_target-1], color='red', label='Prediction')\n",
    "plt.plot(y_valid[:,n_target-1], color='green', label='Is so Daten')\n",
    "plt.show"
   ]
  },
  {
   "cell_type": "markdown",
   "metadata": {},
   "source": [
    "nicht ganz getroffen :(\n",
    "Verlauf schaut aber gar nicht so schlecht aus"
   ]
  },
  {
   "cell_type": "markdown",
   "metadata": {},
   "source": [
    "## Aufs ganze\n",
    "So jetzt lass ich den auf das ganze DS los"
   ]
  },
  {
   "cell_type": "code",
   "execution_count": 20,
   "metadata": {},
   "outputs": [
    {
     "name": "stdout",
     "output_type": "stream",
     "text": [
      "MSE auf das Ganze:  0.00025263565\n"
     ]
    }
   ],
   "source": [
    "y_all_pred = sess.run(pred, feed_dict={x: datax})\n",
    "mse_all = cost.eval(feed_dict={x: datax, y: datay})\n",
    "print(\"MSE auf das Ganze: \",mse_all)"
   ]
  },
  {
   "cell_type": "code",
   "execution_count": 21,
   "metadata": {},
   "outputs": [
    {
     "data": {
      "text/plain": [
       "<function matplotlib.pyplot.show(*args, **kw)>"
      ]
     },
     "execution_count": 21,
     "metadata": {},
     "output_type": "execute_result"
    },
    {
     "data": {
      "image/png": "[encoded data removed]",
      "text/plain": [
       "<Figure size 432x288 with 1 Axes>"
      ]
     },
     "metadata": {},
     "output_type": "display_data"
    }
   ],
   "source": [
    "plt.plot(y_all_pred[:,n_target-1], color='red', label='Prediction')\n",
    "plt.plot(datay[:,n_target-1], color='orange', label='Is so Daten')\n",
    "plt.show"
   ]
  },
  {
   "cell_type": "code",
   "execution_count": 22,
   "metadata": {},
   "outputs": [],
   "source": [
    "y_fu_pred = sess.run(pred, feed_dict={x: datax[-1:]})"
   ]
  },
  {
   "cell_type": "code",
   "execution_count": 23,
   "metadata": {},
   "outputs": [
    {
     "data": {
      "text/plain": [
       "array([[-0.19070971],\n",
       "       [-0.19120678],\n",
       "       [-0.19135553],\n",
       "       [-0.19115081],\n",
       "       [-0.1910036 ]], dtype=float32)"
      ]
     },
     "execution_count": 23,
     "metadata": {},
     "output_type": "execute_result"
    }
   ],
   "source": [
    "y_fu_pred.reshape(-1,1)"
   ]
  },
  {
   "cell_type": "code",
   "execution_count": 24,
   "metadata": {},
   "outputs": [
    {
     "name": "stdout",
     "output_type": "stream",
     "text": [
      "[[-0.1945263  -0.19052125 -0.19550166 -0.19066463 -0.19071242 -0.19116701\n",
      "  -0.18269796 -0.17869798 -0.18186623 -0.18403129 -0.1858013  -0.19093058\n",
      "  -0.1937229  -0.1896847  -0.18969792]]\n"
     ]
    },
    {
     "data": {
      "text/plain": [
       "[<matplotlib.lines.Line2D at 0x250a50ab160>]"
      ]
     },
     "execution_count": 24,
     "metadata": {},
     "output_type": "execute_result"
    },
    {
     "data": {
      "image/png": "[encoded data removed]",
      "text/plain": [
       "<Figure size 432x288 with 1 Axes>"
      ]
     },
     "metadata": {},
     "output_type": "display_data"
    }
   ],
   "source": [
    "print(datax[-1:])\n",
    "plt.plot(y_fu_pred.reshape(-1,1))"
   ]
  },
  {
   "cell_type": "code",
   "execution_count": null,
   "metadata": {},
   "outputs": [],
   "source": []
  }
 ],
 "metadata": {
  "kernelspec": {
   "display_name": "Python 3",
   "language": "python",
   "name": "python3"
  },
  "language_info": {
   "codemirror_mode": {
    "name": "ipython",
    "version": 3
   },
   "file_extension": ".py",
   "mimetype": "text/x-python",
   "name": "python",
   "nbconvert_exporter": "python",
   "pygments_lexer": "ipython3",
   "version": "3.6.5"
  }
 },
 "nbformat": 4,
 "nbformat_minor": 2
}
